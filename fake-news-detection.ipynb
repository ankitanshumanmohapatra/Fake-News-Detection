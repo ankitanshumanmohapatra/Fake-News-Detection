{
 "cells": [
  {
   "cell_type": "code",
   "execution_count": 1,
   "id": "513c5268",
   "metadata": {
    "_cell_guid": "b1076dfc-b9ad-4769-8c92-a6c4dae69d19",
    "_uuid": "8f2839f25d086af736a60e9eeb907d3b93b6e0e5",
    "execution": {
     "iopub.execute_input": "2022-11-30T13:19:37.933587Z",
     "iopub.status.busy": "2022-11-30T13:19:37.933046Z",
     "iopub.status.idle": "2022-11-30T13:19:37.955003Z",
     "shell.execute_reply": "2022-11-30T13:19:37.953895Z"
    },
    "papermill": {
     "duration": 0.036468,
     "end_time": "2022-11-30T13:19:37.958645",
     "exception": false,
     "start_time": "2022-11-30T13:19:37.922177",
     "status": "completed"
    },
    "tags": []
   },
   "outputs": [
    {
     "name": "stdout",
     "output_type": "stream",
     "text": [
      "/kaggle/input/fake-news-detection/True.csv\n",
      "/kaggle/input/fake-news-detection/Fake.csv\n"
     ]
    }
   ],
   "source": [
    "# This Python 3 environment comes with many helpful analytics libraries installed\n",
    "# It is defined by the kaggle/python Docker image: https://github.com/kaggle/docker-python\n",
    "# For example, here's several helpful packages to load\n",
    "\n",
    "import numpy as np # linear algebra\n",
    "import pandas as pd # data processing, CSV file I/O (e.g. pd.read_csv)\n",
    "\n",
    "# Input data files are available in the read-only \"../input/\" directory\n",
    "# For example, running this (by clicking run or pressing Shift+Enter) will list all files under the input directory\n",
    "\n",
    "import os\n",
    "for dirname, _, filenames in os.walk('/kaggle/input'):\n",
    "    for filename in filenames:\n",
    "        print(os.path.join(dirname, filename))\n",
    "\n",
    "# You can write up to 20GB to the current directory (/kaggle/working/) that gets preserved as output when you create a version using \"Save & Run All\" \n",
    "# You can also write temporary files to /kaggle/temp/, but they won't be saved outside of the current session"
   ]
  },
  {
   "cell_type": "code",
   "execution_count": 2,
   "id": "5bf39daf",
   "metadata": {
    "execution": {
     "iopub.execute_input": "2022-11-30T13:19:37.978817Z",
     "iopub.status.busy": "2022-11-30T13:19:37.978177Z",
     "iopub.status.idle": "2022-11-30T13:19:40.353222Z",
     "shell.execute_reply": "2022-11-30T13:19:40.352192Z"
    },
    "papermill": {
     "duration": 2.387843,
     "end_time": "2022-11-30T13:19:40.356029",
     "exception": false,
     "start_time": "2022-11-30T13:19:37.968186",
     "status": "completed"
    },
    "tags": []
   },
   "outputs": [],
   "source": [
    "import pandas as pd\n",
    "import numpy as np\n",
    "import matplotlib.pyplot as plt\n",
    "\n",
    "import re\n",
    "import string\n",
    "import nltk\n",
    "from nltk.corpus import stopwords\n",
    "\n",
    "from sklearn import model_selection\n",
    "from sklearn.model_selection import train_test_split\n",
    "from sklearn.feature_extraction.text import CountVectorizer, TfidfVectorizer\n",
    "\n",
    "\n"
   ]
  },
  {
   "cell_type": "code",
   "execution_count": 3,
   "id": "15ae0691",
   "metadata": {
    "execution": {
     "iopub.execute_input": "2022-11-30T13:19:40.373683Z",
     "iopub.status.busy": "2022-11-30T13:19:40.373220Z",
     "iopub.status.idle": "2022-11-30T13:19:43.352019Z",
     "shell.execute_reply": "2022-11-30T13:19:43.350975Z"
    },
    "papermill": {
     "duration": 2.990575,
     "end_time": "2022-11-30T13:19:43.354624",
     "exception": false,
     "start_time": "2022-11-30T13:19:40.364049",
     "status": "completed"
    },
    "tags": []
   },
   "outputs": [],
   "source": [
    "true_news = pd.read_csv('/kaggle/input/fake-news-detection/True.csv')\n",
    "fake_news = pd.read_csv('/kaggle/input/fake-news-detection/Fake.csv')"
   ]
  },
  {
   "cell_type": "code",
   "execution_count": 4,
   "id": "5a708817",
   "metadata": {
    "execution": {
     "iopub.execute_input": "2022-11-30T13:19:43.371743Z",
     "iopub.status.busy": "2022-11-30T13:19:43.371352Z",
     "iopub.status.idle": "2022-11-30T13:19:43.394962Z",
     "shell.execute_reply": "2022-11-30T13:19:43.393764Z"
    },
    "papermill": {
     "duration": 0.035107,
     "end_time": "2022-11-30T13:19:43.397544",
     "exception": false,
     "start_time": "2022-11-30T13:19:43.362437",
     "status": "completed"
    },
    "tags": []
   },
   "outputs": [
    {
     "data": {
      "text/html": [
       "<div>\n",
       "<style scoped>\n",
       "    .dataframe tbody tr th:only-of-type {\n",
       "        vertical-align: middle;\n",
       "    }\n",
       "\n",
       "    .dataframe tbody tr th {\n",
       "        vertical-align: top;\n",
       "    }\n",
       "\n",
       "    .dataframe thead th {\n",
       "        text-align: right;\n",
       "    }\n",
       "</style>\n",
       "<table border=\"1\" class=\"dataframe\">\n",
       "  <thead>\n",
       "    <tr style=\"text-align: right;\">\n",
       "      <th></th>\n",
       "      <th>title</th>\n",
       "      <th>text</th>\n",
       "      <th>subject</th>\n",
       "      <th>date</th>\n",
       "    </tr>\n",
       "  </thead>\n",
       "  <tbody>\n",
       "    <tr>\n",
       "      <th>0</th>\n",
       "      <td>As U.S. budget fight looms, Republicans flip t...</td>\n",
       "      <td>WASHINGTON (Reuters) - The head of a conservat...</td>\n",
       "      <td>politicsNews</td>\n",
       "      <td>December 31, 2017</td>\n",
       "    </tr>\n",
       "    <tr>\n",
       "      <th>1</th>\n",
       "      <td>U.S. military to accept transgender recruits o...</td>\n",
       "      <td>WASHINGTON (Reuters) - Transgender people will...</td>\n",
       "      <td>politicsNews</td>\n",
       "      <td>December 29, 2017</td>\n",
       "    </tr>\n",
       "    <tr>\n",
       "      <th>2</th>\n",
       "      <td>Senior U.S. Republican senator: 'Let Mr. Muell...</td>\n",
       "      <td>WASHINGTON (Reuters) - The special counsel inv...</td>\n",
       "      <td>politicsNews</td>\n",
       "      <td>December 31, 2017</td>\n",
       "    </tr>\n",
       "    <tr>\n",
       "      <th>3</th>\n",
       "      <td>FBI Russia probe helped by Australian diplomat...</td>\n",
       "      <td>WASHINGTON (Reuters) - Trump campaign adviser ...</td>\n",
       "      <td>politicsNews</td>\n",
       "      <td>December 30, 2017</td>\n",
       "    </tr>\n",
       "    <tr>\n",
       "      <th>4</th>\n",
       "      <td>Trump wants Postal Service to charge 'much mor...</td>\n",
       "      <td>SEATTLE/WASHINGTON (Reuters) - President Donal...</td>\n",
       "      <td>politicsNews</td>\n",
       "      <td>December 29, 2017</td>\n",
       "    </tr>\n",
       "  </tbody>\n",
       "</table>\n",
       "</div>"
      ],
      "text/plain": [
       "                                               title  \\\n",
       "0  As U.S. budget fight looms, Republicans flip t...   \n",
       "1  U.S. military to accept transgender recruits o...   \n",
       "2  Senior U.S. Republican senator: 'Let Mr. Muell...   \n",
       "3  FBI Russia probe helped by Australian diplomat...   \n",
       "4  Trump wants Postal Service to charge 'much mor...   \n",
       "\n",
       "                                                text       subject  \\\n",
       "0  WASHINGTON (Reuters) - The head of a conservat...  politicsNews   \n",
       "1  WASHINGTON (Reuters) - Transgender people will...  politicsNews   \n",
       "2  WASHINGTON (Reuters) - The special counsel inv...  politicsNews   \n",
       "3  WASHINGTON (Reuters) - Trump campaign adviser ...  politicsNews   \n",
       "4  SEATTLE/WASHINGTON (Reuters) - President Donal...  politicsNews   \n",
       "\n",
       "                 date  \n",
       "0  December 31, 2017   \n",
       "1  December 29, 2017   \n",
       "2  December 31, 2017   \n",
       "3  December 30, 2017   \n",
       "4  December 29, 2017   "
      ]
     },
     "execution_count": 4,
     "metadata": {},
     "output_type": "execute_result"
    }
   ],
   "source": [
    "true_news.head()"
   ]
  },
  {
   "cell_type": "code",
   "execution_count": 5,
   "id": "968146a8",
   "metadata": {
    "execution": {
     "iopub.execute_input": "2022-11-30T13:19:43.415054Z",
     "iopub.status.busy": "2022-11-30T13:19:43.414679Z",
     "iopub.status.idle": "2022-11-30T13:19:43.426848Z",
     "shell.execute_reply": "2022-11-30T13:19:43.425594Z"
    },
    "papermill": {
     "duration": 0.02358,
     "end_time": "2022-11-30T13:19:43.429209",
     "exception": false,
     "start_time": "2022-11-30T13:19:43.405629",
     "status": "completed"
    },
    "tags": []
   },
   "outputs": [
    {
     "data": {
      "text/html": [
       "<div>\n",
       "<style scoped>\n",
       "    .dataframe tbody tr th:only-of-type {\n",
       "        vertical-align: middle;\n",
       "    }\n",
       "\n",
       "    .dataframe tbody tr th {\n",
       "        vertical-align: top;\n",
       "    }\n",
       "\n",
       "    .dataframe thead th {\n",
       "        text-align: right;\n",
       "    }\n",
       "</style>\n",
       "<table border=\"1\" class=\"dataframe\">\n",
       "  <thead>\n",
       "    <tr style=\"text-align: right;\">\n",
       "      <th></th>\n",
       "      <th>title</th>\n",
       "      <th>text</th>\n",
       "      <th>subject</th>\n",
       "      <th>date</th>\n",
       "    </tr>\n",
       "  </thead>\n",
       "  <tbody>\n",
       "    <tr>\n",
       "      <th>0</th>\n",
       "      <td>Donald Trump Sends Out Embarrassing New Year’...</td>\n",
       "      <td>Donald Trump just couldn t wish all Americans ...</td>\n",
       "      <td>News</td>\n",
       "      <td>December 31, 2017</td>\n",
       "    </tr>\n",
       "    <tr>\n",
       "      <th>1</th>\n",
       "      <td>Drunk Bragging Trump Staffer Started Russian ...</td>\n",
       "      <td>House Intelligence Committee Chairman Devin Nu...</td>\n",
       "      <td>News</td>\n",
       "      <td>December 31, 2017</td>\n",
       "    </tr>\n",
       "    <tr>\n",
       "      <th>2</th>\n",
       "      <td>Sheriff David Clarke Becomes An Internet Joke...</td>\n",
       "      <td>On Friday, it was revealed that former Milwauk...</td>\n",
       "      <td>News</td>\n",
       "      <td>December 30, 2017</td>\n",
       "    </tr>\n",
       "    <tr>\n",
       "      <th>3</th>\n",
       "      <td>Trump Is So Obsessed He Even Has Obama’s Name...</td>\n",
       "      <td>On Christmas day, Donald Trump announced that ...</td>\n",
       "      <td>News</td>\n",
       "      <td>December 29, 2017</td>\n",
       "    </tr>\n",
       "    <tr>\n",
       "      <th>4</th>\n",
       "      <td>Pope Francis Just Called Out Donald Trump Dur...</td>\n",
       "      <td>Pope Francis used his annual Christmas Day mes...</td>\n",
       "      <td>News</td>\n",
       "      <td>December 25, 2017</td>\n",
       "    </tr>\n",
       "  </tbody>\n",
       "</table>\n",
       "</div>"
      ],
      "text/plain": [
       "                                               title  \\\n",
       "0   Donald Trump Sends Out Embarrassing New Year’...   \n",
       "1   Drunk Bragging Trump Staffer Started Russian ...   \n",
       "2   Sheriff David Clarke Becomes An Internet Joke...   \n",
       "3   Trump Is So Obsessed He Even Has Obama’s Name...   \n",
       "4   Pope Francis Just Called Out Donald Trump Dur...   \n",
       "\n",
       "                                                text subject  \\\n",
       "0  Donald Trump just couldn t wish all Americans ...    News   \n",
       "1  House Intelligence Committee Chairman Devin Nu...    News   \n",
       "2  On Friday, it was revealed that former Milwauk...    News   \n",
       "3  On Christmas day, Donald Trump announced that ...    News   \n",
       "4  Pope Francis used his annual Christmas Day mes...    News   \n",
       "\n",
       "                date  \n",
       "0  December 31, 2017  \n",
       "1  December 31, 2017  \n",
       "2  December 30, 2017  \n",
       "3  December 29, 2017  \n",
       "4  December 25, 2017  "
      ]
     },
     "execution_count": 5,
     "metadata": {},
     "output_type": "execute_result"
    }
   ],
   "source": [
    "fake_news.head()"
   ]
  },
  {
   "cell_type": "code",
   "execution_count": null,
   "id": "25348062",
   "metadata": {
    "papermill": {
     "duration": 0.008026,
     "end_time": "2022-11-30T13:19:43.447021",
     "exception": false,
     "start_time": "2022-11-30T13:19:43.438995",
     "status": "completed"
    },
    "tags": []
   },
   "outputs": [],
   "source": []
  },
  {
   "cell_type": "markdown",
   "id": "dd096694",
   "metadata": {
    "papermill": {
     "duration": 0.007888,
     "end_time": "2022-11-30T13:19:43.463233",
     "exception": false,
     "start_time": "2022-11-30T13:19:43.455345",
     "status": "completed"
    },
    "tags": []
   },
   "source": [
    "In above datasets there is no traget attribute which is important and we'll need that for testing in later part of this project, so lets add target attribute\n",
    "\n",
    "when the news is true we'll represent it as 1\n",
    "\n",
    "when the news is false we'll represent it as 0"
   ]
  },
  {
   "cell_type": "code",
   "execution_count": 6,
   "id": "3bf1afb3",
   "metadata": {
    "execution": {
     "iopub.execute_input": "2022-11-30T13:19:43.481802Z",
     "iopub.status.busy": "2022-11-30T13:19:43.481430Z",
     "iopub.status.idle": "2022-11-30T13:19:43.491132Z",
     "shell.execute_reply": "2022-11-30T13:19:43.489989Z"
    },
    "papermill": {
     "duration": 0.021853,
     "end_time": "2022-11-30T13:19:43.493564",
     "exception": false,
     "start_time": "2022-11-30T13:19:43.471711",
     "status": "completed"
    },
    "tags": []
   },
   "outputs": [],
   "source": [
    "true_news['target'] = 1\n",
    "fake_news['target'] = 0"
   ]
  },
  {
   "cell_type": "code",
   "execution_count": 7,
   "id": "b2995264",
   "metadata": {
    "execution": {
     "iopub.execute_input": "2022-11-30T13:19:43.512048Z",
     "iopub.status.busy": "2022-11-30T13:19:43.511235Z",
     "iopub.status.idle": "2022-11-30T13:19:43.517523Z",
     "shell.execute_reply": "2022-11-30T13:19:43.516386Z"
    },
    "papermill": {
     "duration": 0.018649,
     "end_time": "2022-11-30T13:19:43.520479",
     "exception": false,
     "start_time": "2022-11-30T13:19:43.501830",
     "status": "completed"
    },
    "tags": []
   },
   "outputs": [
    {
     "name": "stdout",
     "output_type": "stream",
     "text": [
      "true news shape: (21417, 5)\n",
      "fake news shape: (23481, 5)\n"
     ]
    }
   ],
   "source": [
    "print('true news shape:', true_news.shape)\n",
    "print('fake news shape:', fake_news.shape)"
   ]
  },
  {
   "cell_type": "markdown",
   "id": "ebb7d68f",
   "metadata": {
    "papermill": {
     "duration": 0.008047,
     "end_time": "2022-11-30T13:19:43.537946",
     "exception": false,
     "start_time": "2022-11-30T13:19:43.529899",
     "status": "completed"
    },
    "tags": []
   },
   "source": [
    "As we have different dataset for true and fake news, the next thing we can do is concat both data set and "
   ]
  },
  {
   "cell_type": "code",
   "execution_count": 8,
   "id": "2b569082",
   "metadata": {
    "execution": {
     "iopub.execute_input": "2022-11-30T13:19:43.556260Z",
     "iopub.status.busy": "2022-11-30T13:19:43.555894Z",
     "iopub.status.idle": "2022-11-30T13:19:43.574586Z",
     "shell.execute_reply": "2022-11-30T13:19:43.573475Z"
    },
    "papermill": {
     "duration": 0.030874,
     "end_time": "2022-11-30T13:19:43.577146",
     "exception": false,
     "start_time": "2022-11-30T13:19:43.546272",
     "status": "completed"
    },
    "tags": []
   },
   "outputs": [
    {
     "data": {
      "text/html": [
       "<div>\n",
       "<style scoped>\n",
       "    .dataframe tbody tr th:only-of-type {\n",
       "        vertical-align: middle;\n",
       "    }\n",
       "\n",
       "    .dataframe tbody tr th {\n",
       "        vertical-align: top;\n",
       "    }\n",
       "\n",
       "    .dataframe thead th {\n",
       "        text-align: right;\n",
       "    }\n",
       "</style>\n",
       "<table border=\"1\" class=\"dataframe\">\n",
       "  <thead>\n",
       "    <tr style=\"text-align: right;\">\n",
       "      <th></th>\n",
       "      <th>title</th>\n",
       "      <th>text</th>\n",
       "      <th>subject</th>\n",
       "      <th>date</th>\n",
       "      <th>target</th>\n",
       "    </tr>\n",
       "  </thead>\n",
       "  <tbody>\n",
       "    <tr>\n",
       "      <th>0</th>\n",
       "      <td>As U.S. budget fight looms, Republicans flip t...</td>\n",
       "      <td>WASHINGTON (Reuters) - The head of a conservat...</td>\n",
       "      <td>politicsNews</td>\n",
       "      <td>December 31, 2017</td>\n",
       "      <td>1</td>\n",
       "    </tr>\n",
       "    <tr>\n",
       "      <th>1</th>\n",
       "      <td>U.S. military to accept transgender recruits o...</td>\n",
       "      <td>WASHINGTON (Reuters) - Transgender people will...</td>\n",
       "      <td>politicsNews</td>\n",
       "      <td>December 29, 2017</td>\n",
       "      <td>1</td>\n",
       "    </tr>\n",
       "    <tr>\n",
       "      <th>2</th>\n",
       "      <td>Senior U.S. Republican senator: 'Let Mr. Muell...</td>\n",
       "      <td>WASHINGTON (Reuters) - The special counsel inv...</td>\n",
       "      <td>politicsNews</td>\n",
       "      <td>December 31, 2017</td>\n",
       "      <td>1</td>\n",
       "    </tr>\n",
       "    <tr>\n",
       "      <th>3</th>\n",
       "      <td>FBI Russia probe helped by Australian diplomat...</td>\n",
       "      <td>WASHINGTON (Reuters) - Trump campaign adviser ...</td>\n",
       "      <td>politicsNews</td>\n",
       "      <td>December 30, 2017</td>\n",
       "      <td>1</td>\n",
       "    </tr>\n",
       "    <tr>\n",
       "      <th>4</th>\n",
       "      <td>Trump wants Postal Service to charge 'much mor...</td>\n",
       "      <td>SEATTLE/WASHINGTON (Reuters) - President Donal...</td>\n",
       "      <td>politicsNews</td>\n",
       "      <td>December 29, 2017</td>\n",
       "      <td>1</td>\n",
       "    </tr>\n",
       "  </tbody>\n",
       "</table>\n",
       "</div>"
      ],
      "text/plain": [
       "                                               title  \\\n",
       "0  As U.S. budget fight looms, Republicans flip t...   \n",
       "1  U.S. military to accept transgender recruits o...   \n",
       "2  Senior U.S. Republican senator: 'Let Mr. Muell...   \n",
       "3  FBI Russia probe helped by Australian diplomat...   \n",
       "4  Trump wants Postal Service to charge 'much mor...   \n",
       "\n",
       "                                                text       subject  \\\n",
       "0  WASHINGTON (Reuters) - The head of a conservat...  politicsNews   \n",
       "1  WASHINGTON (Reuters) - Transgender people will...  politicsNews   \n",
       "2  WASHINGTON (Reuters) - The special counsel inv...  politicsNews   \n",
       "3  WASHINGTON (Reuters) - Trump campaign adviser ...  politicsNews   \n",
       "4  SEATTLE/WASHINGTON (Reuters) - President Donal...  politicsNews   \n",
       "\n",
       "                 date  target  \n",
       "0  December 31, 2017        1  \n",
       "1  December 29, 2017        1  \n",
       "2  December 31, 2017        1  \n",
       "3  December 30, 2017        1  \n",
       "4  December 29, 2017        1  "
      ]
     },
     "execution_count": 8,
     "metadata": {},
     "output_type": "execute_result"
    }
   ],
   "source": [
    "news_data = pd.concat([true_news,fake_news],axis = 0)\n",
    "news_data.head()"
   ]
  },
  {
   "cell_type": "raw",
   "id": "3b529a61",
   "metadata": {
    "papermill": {
     "duration": 0.00856,
     "end_time": "2022-11-30T13:19:43.594381",
     "exception": false,
     "start_time": "2022-11-30T13:19:43.585821",
     "status": "completed"
    },
    "tags": []
   },
   "source": [
    "Removing unwanted / futile attributes from our dataset"
   ]
  },
  {
   "cell_type": "code",
   "execution_count": 9,
   "id": "2e780727",
   "metadata": {
    "execution": {
     "iopub.execute_input": "2022-11-30T13:19:43.613129Z",
     "iopub.status.busy": "2022-11-30T13:19:43.612730Z",
     "iopub.status.idle": "2022-11-30T13:19:43.631120Z",
     "shell.execute_reply": "2022-11-30T13:19:43.630034Z"
    },
    "papermill": {
     "duration": 0.030415,
     "end_time": "2022-11-30T13:19:43.633286",
     "exception": false,
     "start_time": "2022-11-30T13:19:43.602871",
     "status": "completed"
    },
    "tags": []
   },
   "outputs": [
    {
     "data": {
      "text/html": [
       "<div>\n",
       "<style scoped>\n",
       "    .dataframe tbody tr th:only-of-type {\n",
       "        vertical-align: middle;\n",
       "    }\n",
       "\n",
       "    .dataframe tbody tr th {\n",
       "        vertical-align: top;\n",
       "    }\n",
       "\n",
       "    .dataframe thead th {\n",
       "        text-align: right;\n",
       "    }\n",
       "</style>\n",
       "<table border=\"1\" class=\"dataframe\">\n",
       "  <thead>\n",
       "    <tr style=\"text-align: right;\">\n",
       "      <th></th>\n",
       "      <th>text</th>\n",
       "      <th>target</th>\n",
       "    </tr>\n",
       "  </thead>\n",
       "  <tbody>\n",
       "    <tr>\n",
       "      <th>0</th>\n",
       "      <td>WASHINGTON (Reuters) - The head of a conservat...</td>\n",
       "      <td>1</td>\n",
       "    </tr>\n",
       "    <tr>\n",
       "      <th>1</th>\n",
       "      <td>WASHINGTON (Reuters) - Transgender people will...</td>\n",
       "      <td>1</td>\n",
       "    </tr>\n",
       "    <tr>\n",
       "      <th>2</th>\n",
       "      <td>WASHINGTON (Reuters) - The special counsel inv...</td>\n",
       "      <td>1</td>\n",
       "    </tr>\n",
       "    <tr>\n",
       "      <th>3</th>\n",
       "      <td>WASHINGTON (Reuters) - Trump campaign adviser ...</td>\n",
       "      <td>1</td>\n",
       "    </tr>\n",
       "    <tr>\n",
       "      <th>4</th>\n",
       "      <td>SEATTLE/WASHINGTON (Reuters) - President Donal...</td>\n",
       "      <td>1</td>\n",
       "    </tr>\n",
       "  </tbody>\n",
       "</table>\n",
       "</div>"
      ],
      "text/plain": [
       "                                                text  target\n",
       "0  WASHINGTON (Reuters) - The head of a conservat...       1\n",
       "1  WASHINGTON (Reuters) - Transgender people will...       1\n",
       "2  WASHINGTON (Reuters) - The special counsel inv...       1\n",
       "3  WASHINGTON (Reuters) - Trump campaign adviser ...       1\n",
       "4  SEATTLE/WASHINGTON (Reuters) - President Donal...       1"
      ]
     },
     "execution_count": 9,
     "metadata": {},
     "output_type": "execute_result"
    }
   ],
   "source": [
    "df = news_data.drop(['title','subject','date'],axis =1 )\n",
    "df.head()"
   ]
  },
  {
   "cell_type": "markdown",
   "id": "599786ab",
   "metadata": {
    "papermill": {
     "duration": 0.008638,
     "end_time": "2022-11-30T13:19:43.650777",
     "exception": false,
     "start_time": "2022-11-30T13:19:43.642139",
     "status": "completed"
    },
    "tags": []
   },
   "source": [
    "### Text Data Preprocessing"
   ]
  },
  {
   "cell_type": "code",
   "execution_count": 10,
   "id": "c214d427",
   "metadata": {
    "execution": {
     "iopub.execute_input": "2022-11-30T13:19:43.670568Z",
     "iopub.status.busy": "2022-11-30T13:19:43.670127Z",
     "iopub.status.idle": "2022-11-30T13:19:59.382230Z",
     "shell.execute_reply": "2022-11-30T13:19:59.381171Z"
    },
    "papermill": {
     "duration": 15.725237,
     "end_time": "2022-11-30T13:19:59.384984",
     "exception": false,
     "start_time": "2022-11-30T13:19:43.659747",
     "status": "completed"
    },
    "tags": []
   },
   "outputs": [],
   "source": [
    "def clean_text(text):\n",
    "    text = text.lower()\n",
    "    text = re.sub('\\[.*?\\]', '', text) # will sub \"[?]\" with a blank str in texts \n",
    "    text = re.sub('https?://\\S+|www\\.\\S+', '', text)\n",
    "    text = re.sub('<.*?>+', '', text)\n",
    "    text = re.sub('[%s]' % re.escape(string.punctuation), '', text)\n",
    "    text = re.sub('\\n', '', text)\n",
    "    text = re.sub('\\w*\\d\\w*', '', text) # words containing digit\n",
    "    return text\n",
    "\n",
    "df['text'] = df['text'].apply(lambda x : clean_text(x))"
   ]
  },
  {
   "cell_type": "code",
   "execution_count": 11,
   "id": "65420644",
   "metadata": {
    "execution": {
     "iopub.execute_input": "2022-11-30T13:19:59.404411Z",
     "iopub.status.busy": "2022-11-30T13:19:59.403987Z",
     "iopub.status.idle": "2022-11-30T13:19:59.414387Z",
     "shell.execute_reply": "2022-11-30T13:19:59.413305Z"
    },
    "papermill": {
     "duration": 0.022747,
     "end_time": "2022-11-30T13:19:59.416658",
     "exception": false,
     "start_time": "2022-11-30T13:19:59.393911",
     "status": "completed"
    },
    "tags": []
   },
   "outputs": [
    {
     "data": {
      "text/plain": [
       "'washington reuters  the head of a conservative republican faction in the us congress who voted this month for a huge expansion of the national debt to pay for tax cuts called himself a “fiscal conservative” on sunday and urged budget restraint in  in keeping with a sharp pivot under way among republicans us representative mark meadows speaking on cbs’ “face the nation” drew a hard line on federal spending which lawmakers are bracing to do battle over in january when they return from the holidays on wednesday lawmakers will begin trying to pass a federal budget in a fight likely to be linked to other issues such as immigration policy even as the november congressional election campaigns approach in which republicans will seek to keep control of congress president donald trump and his republicans want a big budget increase in military spending while democrats also want proportional increases for nondefense “discretionary” spending on programs that support education scientific research infrastructure public health and environmental protection “the trump administration has already been willing to say ‘we’re going to increase nondefense discretionary spending  by about  percent’” meadows chairman of the small but influential house freedom caucus said on the program “now democrats are saying that’s not enough we need to give the government a pay raise of  to  percent for a fiscal conservative i don’t see where the rationale is  eventually you run out of other people’s money” he said meadows was among republicans who voted in late december for their party’s debtfinanced tax overhaul which is expected to balloon the federal budget deficit and add about  trillion over  years to the  trillion national debt “it’s interesting to hear mark talk about fiscal responsibility” democratic us representative joseph crowley said on cbs crowley said the republican tax bill would require the  united states to borrow  trillion to be paid off by future generations to finance tax cuts for corporations and the rich “this is one of the least  fiscally responsible bills we’ve ever seen passed in the history of the house of representatives i think we’re going to be paying for this for many many years to come” crowley said republicans insist the tax package the biggest us tax overhaul in more than  years  will boost the economy and job growth house speaker paul ryan who also supported the tax bill recently went further than meadows making clear in a radio interview that welfare or “entitlement reform” as the party often calls it would be a top republican priority in  in republican parlance “entitlement” programs mean food stamps housing assistance medicare and medicaid health insurance for the elderly poor and disabled as well as other programs created by washington to assist the needy democrats seized on ryan’s early december remarks saying they showed republicans would try to pay for their tax overhaul by seeking spending cuts for social programs but the goals of house republicans may have to take a back seat to the senate where the votes of some democrats will be needed to approve a budget and prevent a government shutdown democrats will use their leverage in the senate which republicans narrowly control to defend both discretionary nondefense programs and social spending while tackling the issue of the “dreamers” people brought illegally to the country as children trump in september put a march  expiration date on the deferred action for childhood arrivals or daca program which protects the young immigrants from deportation and provides them with work permits the president has said in recent twitter messages he wants funding for his proposed mexican border wall and other immigration law changes in exchange for agreeing to help the dreamers representative debbie dingell told cbs she did not favor linking that issue to other policy objectives such as wall funding “we need to do daca clean” she said  on wednesday trump aides will meet with congressional leaders to discuss those issues that will be followed by a weekend of strategy sessions for trump and republican leaders on jan  and  the white house said trump was also scheduled to meet on sunday with florida republican governor rick scott who wants more emergency aid the house has passed an  billion aid package after hurricanes in florida texas and puerto rico and wildfires in california the package far exceeded the  billion requested by the trump administration the senate has not yet voted on the aid '"
      ]
     },
     "execution_count": 11,
     "metadata": {},
     "output_type": "execute_result"
    }
   ],
   "source": [
    "df['text'].head()[0]"
   ]
  },
  {
   "cell_type": "markdown",
   "id": "4b4f9801",
   "metadata": {
    "papermill": {
     "duration": 0.009088,
     "end_time": "2022-11-30T13:19:59.434643",
     "exception": false,
     "start_time": "2022-11-30T13:19:59.425555",
     "status": "completed"
    },
    "tags": []
   },
   "source": [
    "Tokenization"
   ]
  },
  {
   "cell_type": "code",
   "execution_count": 12,
   "id": "0a938b0d",
   "metadata": {
    "execution": {
     "iopub.execute_input": "2022-11-30T13:19:59.454528Z",
     "iopub.status.busy": "2022-11-30T13:19:59.453870Z",
     "iopub.status.idle": "2022-11-30T13:20:06.243458Z",
     "shell.execute_reply": "2022-11-30T13:20:06.242191Z"
    },
    "papermill": {
     "duration": 6.802491,
     "end_time": "2022-11-30T13:20:06.246113",
     "exception": false,
     "start_time": "2022-11-30T13:19:59.443622",
     "status": "completed"
    },
    "tags": []
   },
   "outputs": [
    {
     "data": {
      "text/plain": [
       "0    [washington, reuters, the, head, of, a, conser...\n",
       "1    [washington, reuters, transgender, people, wil...\n",
       "2    [washington, reuters, the, special, counsel, i...\n",
       "3    [washington, reuters, trump, campaign, adviser...\n",
       "4    [seattlewashington, reuters, president, donald...\n",
       "Name: text, dtype: object"
      ]
     },
     "execution_count": 12,
     "metadata": {},
     "output_type": "execute_result"
    }
   ],
   "source": [
    "tokenizer = nltk.tokenize.RegexpTokenizer(r'\\w+')\n",
    "df['text'] = df['text'].apply(lambda x : tokenizer.tokenize(x))\n",
    "df['text'].head()\n",
    "                                         "
   ]
  },
  {
   "cell_type": "markdown",
   "id": "c820869a",
   "metadata": {
    "papermill": {
     "duration": 0.008663,
     "end_time": "2022-11-30T13:20:06.263949",
     "exception": false,
     "start_time": "2022-11-30T13:20:06.255286",
     "status": "completed"
    },
    "tags": []
   },
   "source": [
    "Stop word removal"
   ]
  },
  {
   "cell_type": "code",
   "execution_count": 13,
   "id": "2b7ef712",
   "metadata": {
    "execution": {
     "iopub.execute_input": "2022-11-30T13:20:06.283906Z",
     "iopub.status.busy": "2022-11-30T13:20:06.283126Z",
     "iopub.status.idle": "2022-11-30T13:20:09.105520Z",
     "shell.execute_reply": "2022-11-30T13:20:09.104348Z"
    },
    "papermill": {
     "duration": 2.835138,
     "end_time": "2022-11-30T13:20:09.108027",
     "exception": false,
     "start_time": "2022-11-30T13:20:06.272889",
     "status": "completed"
    },
    "tags": []
   },
   "outputs": [
    {
     "data": {
      "text/plain": [
       "0    [washington, reuters, head, conservative, repu...\n",
       "1    [washington, reuters, transgender, people, all...\n",
       "2    [washington, reuters, special, counsel, invest...\n",
       "3    [washington, reuters, trump, campaign, adviser...\n",
       "4    [seattlewashington, reuters, president, donald...\n",
       "Name: text, dtype: object"
      ]
     },
     "execution_count": 13,
     "metadata": {},
     "output_type": "execute_result"
    }
   ],
   "source": [
    "stop_words = set(stopwords.words('english'))\n",
    "df['text'] =df['text'].apply(lambda x:[word for word in x if word not in stop_words])\n",
    "df['text'].head()"
   ]
  },
  {
   "cell_type": "code",
   "execution_count": 14,
   "id": "8ca6a9e8",
   "metadata": {
    "execution": {
     "iopub.execute_input": "2022-11-30T13:20:09.128346Z",
     "iopub.status.busy": "2022-11-30T13:20:09.127908Z",
     "iopub.status.idle": "2022-11-30T13:20:09.707833Z",
     "shell.execute_reply": "2022-11-30T13:20:09.706730Z"
    },
    "papermill": {
     "duration": 0.593076,
     "end_time": "2022-11-30T13:20:09.710411",
     "exception": false,
     "start_time": "2022-11-30T13:20:09.117335",
     "status": "completed"
    },
    "tags": []
   },
   "outputs": [
    {
     "data": {
      "text/plain": [
       "0    washington reuters head conservative republica...\n",
       "1    washington reuters transgender people allowed ...\n",
       "2    washington reuters special counsel investigati...\n",
       "3    washington reuters trump campaign adviser geor...\n",
       "4    seattlewashington reuters president donald tru...\n",
       "Name: text, dtype: object"
      ]
     },
     "execution_count": 14,
     "metadata": {},
     "output_type": "execute_result"
    }
   ],
   "source": [
    "def combine_text(list_of_text):\n",
    "    combine_text = ' '.join(list_of_text)\n",
    "    return combine_text\n",
    "df['text'] = df['text'].apply(lambda x : combine_text(x))\n",
    "df['text'].head()"
   ]
  },
  {
   "cell_type": "markdown",
   "id": "87d64d20",
   "metadata": {
    "papermill": {
     "duration": 0.00894,
     "end_time": "2022-11-30T13:20:09.729024",
     "exception": false,
     "start_time": "2022-11-30T13:20:09.720084",
     "status": "completed"
    },
    "tags": []
   },
   "source": [
    "Defining Dependent and Independent "
   ]
  },
  {
   "cell_type": "code",
   "execution_count": 15,
   "id": "db7eddf6",
   "metadata": {
    "execution": {
     "iopub.execute_input": "2022-11-30T13:20:09.749100Z",
     "iopub.status.busy": "2022-11-30T13:20:09.748722Z",
     "iopub.status.idle": "2022-11-30T13:20:09.753323Z",
     "shell.execute_reply": "2022-11-30T13:20:09.752277Z"
    },
    "papermill": {
     "duration": 0.017159,
     "end_time": "2022-11-30T13:20:09.755494",
     "exception": false,
     "start_time": "2022-11-30T13:20:09.738335",
     "status": "completed"
    },
    "tags": []
   },
   "outputs": [],
   "source": [
    "x = df['text']\n",
    "y = df['target']"
   ]
  },
  {
   "cell_type": "markdown",
   "id": "30958795",
   "metadata": {
    "papermill": {
     "duration": 0.008765,
     "end_time": "2022-11-30T13:20:09.773471",
     "exception": false,
     "start_time": "2022-11-30T13:20:09.764706",
     "status": "completed"
    },
    "tags": []
   },
   "source": [
    "### Train - Test Split"
   ]
  },
  {
   "cell_type": "code",
   "execution_count": 16,
   "id": "b0772cda",
   "metadata": {
    "execution": {
     "iopub.execute_input": "2022-11-30T13:20:09.792991Z",
     "iopub.status.busy": "2022-11-30T13:20:09.792597Z",
     "iopub.status.idle": "2022-11-30T13:20:09.804905Z",
     "shell.execute_reply": "2022-11-30T13:20:09.803823Z"
    },
    "papermill": {
     "duration": 0.024799,
     "end_time": "2022-11-30T13:20:09.807198",
     "exception": false,
     "start_time": "2022-11-30T13:20:09.782399",
     "status": "completed"
    },
    "tags": []
   },
   "outputs": [],
   "source": [
    "x_train, x_test, y_train, y_test = train_test_split(x,y,test_size = 0.3,random_state = 42)"
   ]
  },
  {
   "cell_type": "code",
   "execution_count": 17,
   "id": "4e6aa9a2",
   "metadata": {
    "execution": {
     "iopub.execute_input": "2022-11-30T13:20:09.827285Z",
     "iopub.status.busy": "2022-11-30T13:20:09.826868Z",
     "iopub.status.idle": "2022-11-30T13:20:09.833038Z",
     "shell.execute_reply": "2022-11-30T13:20:09.831717Z"
    },
    "papermill": {
     "duration": 0.018823,
     "end_time": "2022-11-30T13:20:09.835214",
     "exception": false,
     "start_time": "2022-11-30T13:20:09.816391",
     "status": "completed"
    },
    "tags": []
   },
   "outputs": [
    {
     "name": "stdout",
     "output_type": "stream",
     "text": [
      "(31428,)\n",
      "(13470,)\n",
      "(31428,)\n",
      "(13470,)\n"
     ]
    }
   ],
   "source": [
    "print(x_train.shape)\n",
    "print(x_test.shape)\n",
    "print(y_train.shape)\n",
    "print(y_test.shape)"
   ]
  },
  {
   "cell_type": "markdown",
   "id": "b2eab561",
   "metadata": {
    "papermill": {
     "duration": 0.009233,
     "end_time": "2022-11-30T13:20:09.853830",
     "exception": false,
     "start_time": "2022-11-30T13:20:09.844597",
     "status": "completed"
    },
    "tags": []
   },
   "source": [
    "### Count Vectorizer"
   ]
  },
  {
   "cell_type": "code",
   "execution_count": 18,
   "id": "ce0c6aad",
   "metadata": {
    "execution": {
     "iopub.execute_input": "2022-11-30T13:20:09.873693Z",
     "iopub.status.busy": "2022-11-30T13:20:09.873276Z",
     "iopub.status.idle": "2022-11-30T13:20:19.307772Z",
     "shell.execute_reply": "2022-11-30T13:20:19.306587Z"
    },
    "papermill": {
     "duration": 9.447678,
     "end_time": "2022-11-30T13:20:19.310553",
     "exception": false,
     "start_time": "2022-11-30T13:20:09.862875",
     "status": "completed"
    },
    "tags": []
   },
   "outputs": [],
   "source": [
    "count_vectorizer = CountVectorizer()\n",
    "train_x_vector = count_vectorizer.fit_transform(x_train)\n",
    "test_x_vector = count_vectorizer.transform(x_test)"
   ]
  },
  {
   "cell_type": "code",
   "execution_count": 19,
   "id": "b5dba0d9",
   "metadata": {
    "execution": {
     "iopub.execute_input": "2022-11-30T13:20:19.331329Z",
     "iopub.status.busy": "2022-11-30T13:20:19.330868Z",
     "iopub.status.idle": "2022-11-30T13:20:19.339976Z",
     "shell.execute_reply": "2022-11-30T13:20:19.337994Z"
    },
    "papermill": {
     "duration": 0.02287,
     "end_time": "2022-11-30T13:20:19.342989",
     "exception": false,
     "start_time": "2022-11-30T13:20:19.320119",
     "status": "completed"
    },
    "tags": []
   },
   "outputs": [
    {
     "name": "stdout",
     "output_type": "stream",
     "text": [
      "washington reuters head conservative republican faction us congress voted month huge expansion national debt pay tax cuts called fiscal conservative sunday urged budget restraint keeping sharp pivot way among republicans us representative mark meadows speaking cbs face nation drew hard line federal spending lawmakers bracing battle january return holidays wednesday lawmakers begin trying pass federal budget fight likely linked issues immigration policy even november congressional election campaigns approach republicans seek keep control congress president donald trump republicans want big budget increase military spending democrats also want proportional increases nondefense discretionary spending programs support education scientific research infrastructure public health environmental protection trump administration already willing say going increase nondefense discretionary spending percent meadows chairman small influential house freedom caucus said program democrats saying enough need give government pay raise percent fiscal conservative see rationale eventually run people money said meadows among republicans voted late december party debtfinanced tax overhaul expected balloon federal budget deficit add trillion years trillion national debt interesting hear mark talk fiscal responsibility democratic us representative joseph crowley said cbs crowley said republican tax bill would require united states borrow trillion paid future generations finance tax cuts corporations rich one least fiscally responsible bills ever seen passed history house representatives think going paying many many years come crowley said republicans insist tax package biggest us tax overhaul years boost economy job growth house speaker paul ryan also supported tax bill recently went meadows making clear radio interview welfare entitlement reform party often calls would top republican priority republican parlance entitlement programs mean food stamps housing assistance medicare medicaid health insurance elderly poor disabled well programs created washington assist needy democrats seized ryan early december remarks saying showed republicans would try pay tax overhaul seeking spending cuts social programs goals house republicans may take back seat senate votes democrats needed approve budget prevent government shutdown democrats use leverage senate republicans narrowly control defend discretionary nondefense programs social spending tackling issue dreamers people brought illegally country children trump september put march expiration date deferred action childhood arrivals daca program protects young immigrants deportation provides work permits president said recent twitter messages wants funding proposed mexican border wall immigration law changes exchange agreeing help dreamers representative debbie dingell told cbs favor linking issue policy objectives wall funding need daca clean said wednesday trump aides meet congressional leaders discuss issues followed weekend strategy sessions trump republican leaders jan white house said trump also scheduled meet sunday florida republican governor rick scott wants emergency aid house passed billion aid package hurricanes florida texas puerto rico wildfires california package far exceeded billion requested trump administration senate yet voted aid\n",
      "[[0 0 0 ... 0 0 0]]\n"
     ]
    }
   ],
   "source": [
    "print(df['text'].head()[0])\n",
    "print(train_x_vector[0].todense())"
   ]
  },
  {
   "cell_type": "code",
   "execution_count": 20,
   "id": "77089491",
   "metadata": {
    "execution": {
     "iopub.execute_input": "2022-11-30T13:20:19.364180Z",
     "iopub.status.busy": "2022-11-30T13:20:19.363370Z",
     "iopub.status.idle": "2022-11-30T13:20:33.880074Z",
     "shell.execute_reply": "2022-11-30T13:20:33.878710Z"
    },
    "papermill": {
     "duration": 14.532847,
     "end_time": "2022-11-30T13:20:33.885427",
     "exception": false,
     "start_time": "2022-11-30T13:20:19.352580",
     "status": "completed"
    },
    "tags": []
   },
   "outputs": [
    {
     "name": "stderr",
     "output_type": "stream",
     "text": [
      "/opt/conda/lib/python3.7/site-packages/sklearn/linear_model/_logistic.py:818: ConvergenceWarning: lbfgs failed to converge (status=1):\n",
      "STOP: TOTAL NO. of ITERATIONS REACHED LIMIT.\n",
      "\n",
      "Increase the number of iterations (max_iter) or scale the data as shown in:\n",
      "    https://scikit-learn.org/stable/modules/preprocessing.html\n",
      "Please also refer to the documentation for alternative solver options:\n",
      "    https://scikit-learn.org/stable/modules/linear_model.html#logistic-regression\n",
      "  extra_warning_msg=_LOGISTIC_SOLVER_CONVERGENCE_MSG,\n"
     ]
    },
    {
     "data": {
      "text/plain": [
       "LogisticRegression()"
      ]
     },
     "execution_count": 20,
     "metadata": {},
     "output_type": "execute_result"
    }
   ],
   "source": [
    "from sklearn.linear_model import LogisticRegression\n",
    "LR = LogisticRegression()\n",
    "LR.fit(train_x_vector,y_train)"
   ]
  },
  {
   "cell_type": "raw",
   "id": "fab0daa5",
   "metadata": {
    "papermill": {
     "duration": 0.023739,
     "end_time": "2022-11-30T13:20:33.946896",
     "exception": false,
     "start_time": "2022-11-30T13:20:33.923157",
     "status": "completed"
    },
    "tags": []
   },
   "source": [
    "pred_lr = LR.predict(text_x_vector)"
   ]
  },
  {
   "cell_type": "code",
   "execution_count": 21,
   "id": "1f40a426",
   "metadata": {
    "execution": {
     "iopub.execute_input": "2022-11-30T13:20:33.975820Z",
     "iopub.status.busy": "2022-11-30T13:20:33.975377Z",
     "iopub.status.idle": "2022-11-30T13:20:33.993229Z",
     "shell.execute_reply": "2022-11-30T13:20:33.992109Z"
    },
    "papermill": {
     "duration": 0.031971,
     "end_time": "2022-11-30T13:20:33.995878",
     "exception": false,
     "start_time": "2022-11-30T13:20:33.963907",
     "status": "completed"
    },
    "tags": []
   },
   "outputs": [],
   "source": [
    "pred_lr = LR.predict(test_x_vector)"
   ]
  },
  {
   "cell_type": "code",
   "execution_count": 22,
   "id": "a2623dea",
   "metadata": {
    "execution": {
     "iopub.execute_input": "2022-11-30T13:20:34.016375Z",
     "iopub.status.busy": "2022-11-30T13:20:34.015963Z",
     "iopub.status.idle": "2022-11-30T13:20:34.034418Z",
     "shell.execute_reply": "2022-11-30T13:20:34.033281Z"
    },
    "papermill": {
     "duration": 0.031266,
     "end_time": "2022-11-30T13:20:34.036685",
     "exception": false,
     "start_time": "2022-11-30T13:20:34.005419",
     "status": "completed"
    },
    "tags": []
   },
   "outputs": [
    {
     "data": {
      "text/plain": [
       "0.995916852264291"
      ]
     },
     "execution_count": 22,
     "metadata": {},
     "output_type": "execute_result"
    }
   ],
   "source": [
    "LR.score(test_x_vector, y_test)"
   ]
  },
  {
   "cell_type": "code",
   "execution_count": 23,
   "id": "7846c04e",
   "metadata": {
    "execution": {
     "iopub.execute_input": "2022-11-30T13:20:34.057741Z",
     "iopub.status.busy": "2022-11-30T13:20:34.057344Z",
     "iopub.status.idle": "2022-11-30T13:20:34.062415Z",
     "shell.execute_reply": "2022-11-30T13:20:34.061115Z"
    },
    "papermill": {
     "duration": 0.018484,
     "end_time": "2022-11-30T13:20:34.064858",
     "exception": false,
     "start_time": "2022-11-30T13:20:34.046374",
     "status": "completed"
    },
    "tags": []
   },
   "outputs": [],
   "source": [
    "from sklearn.metrics import classification_report"
   ]
  },
  {
   "cell_type": "code",
   "execution_count": 24,
   "id": "4021ea67",
   "metadata": {
    "execution": {
     "iopub.execute_input": "2022-11-30T13:20:34.086598Z",
     "iopub.status.busy": "2022-11-30T13:20:34.086172Z",
     "iopub.status.idle": "2022-11-30T13:20:34.119981Z",
     "shell.execute_reply": "2022-11-30T13:20:34.118841Z"
    },
    "papermill": {
     "duration": 0.047161,
     "end_time": "2022-11-30T13:20:34.122249",
     "exception": false,
     "start_time": "2022-11-30T13:20:34.075088",
     "status": "completed"
    },
    "tags": []
   },
   "outputs": [
    {
     "name": "stdout",
     "output_type": "stream",
     "text": [
      "              precision    recall  f1-score   support\n",
      "\n",
      "           0       1.00      0.99      1.00      6996\n",
      "           1       0.99      1.00      1.00      6474\n",
      "\n",
      "    accuracy                           1.00     13470\n",
      "   macro avg       1.00      1.00      1.00     13470\n",
      "weighted avg       1.00      1.00      1.00     13470\n",
      "\n"
     ]
    }
   ],
   "source": [
    "print(classification_report(y_test, pred_lr))"
   ]
  }
 ],
 "metadata": {
  "kernelspec": {
   "display_name": "Python 3",
   "language": "python",
   "name": "python3"
  },
  "language_info": {
   "codemirror_mode": {
    "name": "ipython",
    "version": 3
   },
   "file_extension": ".py",
   "mimetype": "text/x-python",
   "name": "python",
   "nbconvert_exporter": "python",
   "pygments_lexer": "ipython3",
   "version": "3.7.12"
  },
  "papermill": {
   "default_parameters": {},
   "duration": 66.081325,
   "end_time": "2022-11-30T13:20:34.953969",
   "environment_variables": {},
   "exception": null,
   "input_path": "__notebook__.ipynb",
   "output_path": "__notebook__.ipynb",
   "parameters": {},
   "start_time": "2022-11-30T13:19:28.872644",
   "version": "2.3.4"
  }
 },
 "nbformat": 4,
 "nbformat_minor": 5
}
